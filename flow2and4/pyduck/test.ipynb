{
 "cells": [
  {
   "cell_type": "code",
   "execution_count": 1,
   "metadata": {},
   "outputs": [],
   "source": [
    "from __future__ import annotations\n",
    "from sqlalchemy import create_engine, ForeignKey, UniqueConstraint, select\n",
    "from sqlalchemy.orm import DeclarativeBase\n",
    "from sqlalchemy.orm import Mapped, mapped_column, relationship, Session, sessionmaker"
   ]
  },
  {
   "cell_type": "code",
   "execution_count": 2,
   "metadata": {},
   "outputs": [],
   "source": [
    "engine = create_engine(url=\"sqlite:///:memory:\")"
   ]
  },
  {
   "cell_type": "code",
   "execution_count": 3,
   "metadata": {},
   "outputs": [],
   "source": [
    "class Base(DeclarativeBase):\n",
    "    pass"
   ]
  },
  {
   "cell_type": "code",
   "execution_count": 4,
   "metadata": {},
   "outputs": [],
   "source": [
    "class User(Base):\n",
    "    \"\"\"Represent user\"\"\"\n",
    "\n",
    "    __tablename__ = \"user\"\n",
    "\n",
    "    id: Mapped[int] = mapped_column(primary_key=True)\n",
    "    name: Mapped[str]\n",
    "\n",
    "\n",
    "class Vote(Base):\n",
    "    \"\"\"Represent vote.\"\"\"\n",
    "\n",
    "    __tablename__ = \"vote\"\n",
    "\n",
    "    id: Mapped[int] = mapped_column(primary_key=True)\n",
    "    user_id = mapped_column(ForeignKey(\"user.id\"))\n",
    "    target: Mapped[str]\n",
    "    target_id: Mapped[str]\n",
    "\n",
    "    __table_args__ = (\n",
    "        UniqueConstraint(\"user_id\", \"target\", \"target_id\"),\n",
    "    )\n",
    "    __mapper_args__ = {\n",
    "        \"polymorphic_on\": \"target\",\n",
    "        \"polymorphic_identity\": \"vote\"\n",
    "    }\n",
    "\n",
    "\n",
    "class QuestionVote(Vote):\n",
    "    \"\"\"Represent vote to question\"\"\"\n",
    "\n",
    "    __mapper_args__ = {\n",
    "        \"polymorphic_identity\": \"question\"\n",
    "   }\n",
    "\n",
    "    # 😓 👇👇👇 below.. I don't know how to correctly set up relationship configuration\n",
    "    question: Mapped[Question] = relationship(\n",
    "        \"Question\",\n",
    "        #primaryjoin=\"foreign(Question.id) == QuestionVote.target_id\"         # 1️⃣ not working ❌(empty)\n",
    "        #primaryjoin=\"foreign(Question.id) == remote(QuestionVote.target_id)\"  # 2️⃣ not working ❌(empty)\n",
    "        primaryjoin=\"Question.id == foreign(QuestionVote.target_id)\"         # 3️⃣ not working ❌(empty)\n",
    "        #primaryjoin=\"remote(Question.id) == foreign(QuestionVote.target_id)\"  # 4️⃣ not working ❌(empty)\n",
    "     )\n",
    "\n",
    "class CommentVote(Vote):\n",
    "    \"\"\"Represent vote to comment\"\"\"\n",
    "\n",
    "    __mapper_args__ = {\n",
    "        \"polymorphic_identity\": \"comment\"\n",
    "    }\n",
    "\n",
    "\n",
    "class Question(Base):\n",
    "    \"\"\"Represent question.\"\"\"\n",
    "\n",
    "    __tablename__ = \"question\"\n",
    "\n",
    "    id: Mapped[int] = mapped_column(primary_key=True)\n",
    "    user_id = mapped_column(ForeignKey(\"user.id\"))\n",
    "\n",
    "    votes: Mapped[list[QuestionVote]] = relationship(\n",
    "        \"QuestionVote\",\n",
    "        primaryjoin=\"foreign(QuestionVote.target_id) == Question.id\",\n",
    "    )"
   ]
  },
  {
   "cell_type": "code",
   "execution_count": 5,
   "metadata": {},
   "outputs": [],
   "source": [
    "Base.metadata.create_all(bind=engine)"
   ]
  },
  {
   "cell_type": "code",
   "execution_count": 6,
   "metadata": {},
   "outputs": [],
   "source": [
    "LocalSession = sessionmaker(bind=engine)"
   ]
  },
  {
   "cell_type": "code",
   "execution_count": 7,
   "metadata": {},
   "outputs": [
    {
     "name": "stderr",
     "output_type": "stream",
     "text": [
      "/tmp/ipykernel_3625/577691609.py:2: SAWarning: relationship 'Question.votes' will copy column question.id to column vote.target_id, which conflicts with relationship(s): 'QuestionVote.question' (copies question.id to vote.target_id). If this is not the intention, consider if these relationships should be linked with back_populates, or if viewonly=True should be applied to one or more if they are read-only. For the less common case that foreign key constraints are partially overlapping, the orm.foreign() annotation can be used to isolate the columns that should be written towards.   To silence this warning, add the parameter 'overlaps=\"question\"' to the 'Question.votes' relationship. (Background on this warning at: https://sqlalche.me/e/20/qzyx) (This warning originated from the `configure_mappers()` process, which was invoked automatically in response to a user-initiated operation.)\n",
      "  user1 = User(name=\"rodi\")\n"
     ]
    }
   ],
   "source": [
    "with LocalSession() as session:\n",
    "    user1 = User(name=\"rodi\")\n",
    "    user2 = User(name=\"rudy\")\n",
    "    session.add_all([user1, user2])\n",
    "    session.commit()"
   ]
  },
  {
   "cell_type": "code",
   "execution_count": 8,
   "metadata": {},
   "outputs": [],
   "source": [
    "with LocalSession() as session:\n",
    "    rodi = session.get(User, 1)\n",
    "    q = Question(user_id=rodi.id)\n",
    "    session.add(q)\n",
    "    session.commit()\n",
    "\n",
    "    v = QuestionVote(user_id=rodi.id, target_id=q.id)\n",
    "    session.add(v)\n",
    "    session.commit()\n"
   ]
  },
  {
   "cell_type": "code",
   "execution_count": 9,
   "metadata": {},
   "outputs": [
    {
     "name": "stdout",
     "output_type": "stream",
     "text": [
      "1\n"
     ]
    }
   ],
   "source": [
    "with LocalSession() as session:\n",
    "    q = session.get(Question, 1)\n",
    "    v = session.get(QuestionVote, 1)\n",
    "    print(v.question.id)"
   ]
  },
  {
   "cell_type": "code",
   "execution_count": null,
   "metadata": {},
   "outputs": [],
   "source": []
  }
 ],
 "metadata": {
  "kernelspec": {
   "display_name": ".venv",
   "language": "python",
   "name": "python3"
  },
  "language_info": {
   "codemirror_mode": {
    "name": "ipython",
    "version": 3
   },
   "file_extension": ".py",
   "mimetype": "text/x-python",
   "name": "python",
   "nbconvert_exporter": "python",
   "pygments_lexer": "ipython3",
   "version": "3.11.2"
  },
  "orig_nbformat": 4
 },
 "nbformat": 4,
 "nbformat_minor": 2
}
